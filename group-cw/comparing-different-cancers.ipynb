{
 "cells": [
  {
   "cell_type": "raw",
   "metadata": {},
   "source": [
    "We choose 4 different types of cancer that have the same number of features for the following subsets:\n",
    "\n",
    "1 : gene expression RNAseq (aici ma refer la primul hyper-link din gene expression aka \"HTSeq - Counts\")\n",
    "        60,489 identifiers\n",
    "\n",
    "2 : miRNA Expression Quantification\n",
    "        1,882 identifiers "
   ]
  },
  {
   "cell_type": "raw",
   "metadata": {},
   "source": [
    "1: cohort: GDC TCGA Thyroid Cancer (THCA)\n",
    "2: cohort: GDC TCGA Stomach Cancer (STAD)\n",
    "3: cohort: GDC TCGA Ovarian Cancer (OV)\n",
    "4: cohort: GDC TCGA Prostate Cancer (PRAD)\n",
    "\n",
    "gene expressions |and| stem loop expression ids:\n",
    "    \n",
    "    1: TCGA-THCA.htseq_counts.tsv || TCGA-THCA.mirna.tsv\n",
    "    2: TCGA-STAD.htseq_counts.tsv || TCGA-STAD.mirna.tsv\n",
    "    3: TCGA-OV.htseq_counts.tsv   || TCGA-OV.mirna.tsv\n",
    "    4: TCGA-PRAD.htseq_counts.tsv || TCGA-PRAD.mirna.tsv\n",
    "\n",
    "All subsets can be downloaded from the hub: https://gdc.xenahubs.net"
   ]
  },
  {
   "cell_type": "code",
   "execution_count": null,
   "metadata": {},
   "outputs": [],
   "source": [
    "import xenaPython as xena\n",
    "import numpy as np\n",
    "import pandas as pd\n",
    "import pickle"
   ]
  },
  {
   "cell_type": "code",
   "execution_count": null,
   "metadata": {},
   "outputs": [],
   "source": [
    "host = \"https://gdc.xenahubs.net\"\n",
    "\n",
    "# ids for the gene expressions\n",
    "dataset_ids_gene = [\"TCGA-THCA.htseq_counts.tsv\",\n",
    "                  \"TCGA-STAD.htseq_counts.tsv\",\n",
    "                  \"TCGA-OV.htseq_counts.tsv\",\n",
    "                  \"TCGA-PRAD.htseq_counts.tsv\"]\n",
    "\n",
    "dataset_ids_stem = [\"TCGA-THCA.mirna.tsv\",\n",
    "                  \"TCGA-STAD.mirna.tsv\",\n",
    "                  \"TCGA-OV.mirna.tsv\",\n",
    "                  \"TCGA-PRAD.mirna.tsv\"]\n",
    "\n",
    "cancer_types = [\"Thyroid-Cancer\",\n",
    "               \"Stomach-Cancer\",\n",
    "               \"Ovarian-Cancer\",\n",
    "               \"Prostate-Cancer\"]"
   ]
  },
  {
   "cell_type": "code",
   "execution_count": null,
   "metadata": {},
   "outputs": [],
   "source": [
    "def retrieve_full_datasets(dataset_ids):\n",
    "    \n",
    "    \"\"\" \n",
    "    Retrieves a number of datasets\n",
    "   \n",
    "    Parameters: \n",
    "    arg1 (list): Id names of the datasets as found on Xena website\n",
    "  \n",
    "    Returns: \n",
    "    list: The transposed datasets as shown on Xena in a pandas format \n",
    "    \"\"\"\n",
    "    \n",
    "    panda_datasets = []\n",
    "    for i in (dataset_ids):\n",
    "        \n",
    "        #getting the sample and feature names\n",
    "        samples_names = xena.dataset_samples(host, i, None)\n",
    "        features_names = xena.dataset_field(host, i)\n",
    "\n",
    "        #retrieving the full dataset \n",
    "        dataset = xena.dataset_fetch(host, i, samples_names, features_names)\n",
    "        \n",
    "        #transposing the data so it is in the \"sample X features\" format\n",
    "        dataset = np.array(dataset)\n",
    "        dataset = dataset.T\n",
    "        print(dataset.shape)\n",
    "        \n",
    "        panda_dataset = pd.DataFrame(data=dataset,            # values\n",
    "                                     index=samples_names,     # 1st column as index\n",
    "                                     columns=features_names)  # 1st row as the column names\n",
    "        \n",
    "        panda_datasets.append(panda_dataset)\n",
    "\n",
    "    return panda_datasets    "
   ]
  },
  {
   "cell_type": "code",
   "execution_count": null,
   "metadata": {},
   "outputs": [],
   "source": [
    "def save_panda_datasets(datasets_pandas, dataset_ids):\n",
    "    \n",
    "    \"\"\" \n",
    "    Saves all the datasets to current directory for further use\n",
    "   \n",
    "    Parameters: \n",
    "    arg1 (list): Datasets in pandas format\n",
    "    arg2 (list): Datasets ids as in Xena website\n",
    "    \"\"\"\n",
    "    \n",
    "    #saving each dataset with the\n",
    "    for i in range(len(datasets_pandas)):\n",
    "        filename = dataset_ids[i][:-4]\n",
    "        datasets_pandas[i].to_csv( filename + \".csv\")\n",
    "        print(\"saved \", filename)"
   ]
  },
  {
   "cell_type": "code",
   "execution_count": null,
   "metadata": {},
   "outputs": [],
   "source": [
    "datasets_pandas_gene = retrieve_full_datasets(dataset_ids_gene)\n",
    "save_panda_datasets(datasets_pandas_gene, dataset_ids_gene)\n",
    "del datasets_pandas_gene"
   ]
  },
  {
   "cell_type": "code",
   "execution_count": null,
   "metadata": {},
   "outputs": [],
   "source": [
    "datasets_pandas_stem = retrieve_full_datasets(dataset_ids_stem)\n",
    "save_panda_datasets(datasets_pandas_stem, dataset_ids_stem)\n",
    "del datasets_pandas_stem"
   ]
  },
  {
   "cell_type": "code",
   "execution_count": null,
   "metadata": {},
   "outputs": [],
   "source": [
    "def add_cancer_type_column(dataset_ids, cancer_types):\n",
    "    \n",
    "    \"\"\" \n",
    "    Adds new column to datasets with cancer type and overides the old version to working dir\n",
    "   \n",
    "    Parameters: \n",
    "    arg1 (list): Datasets ids as on Xena website\n",
    "    arg2 (list): cancer types as simple names\n",
    "    \"\"\"\n",
    "    \n",
    "    for i in range(len(dataset_ids)):\n",
    "        filename = dataset_ids[i][:-4] + \".csv\"\n",
    "        dataset = pd.read_csv(filename)\n",
    "        \n",
    "        dataset['Cancer-Type'] = cancer_types[i]\n",
    "        dataset.to_csv(filename, index= False)\n",
    "        print(\"saved \", filename)"
   ]
  },
  {
   "cell_type": "code",
   "execution_count": null,
   "metadata": {},
   "outputs": [],
   "source": [
    "add_cancer_type_column(dataset_ids_gene, cancer_types)\n",
    "add_cancer_type_column(dataset_ids_stem, cancer_types)"
   ]
  },
  {
   "cell_type": "code",
   "execution_count": null,
   "metadata": {},
   "outputs": [],
   "source": [
    "def merging_datasets(dataset_ids, name):\n",
    "    \n",
    "    \"\"\" \n",
    "    Merges the datasets saved to working dir and saves the result\n",
    "   \n",
    "    Parameters: \n",
    "    arg1 (list): Datasets ids as on Xena website\n",
    "    arg2 (string): The name of the final merged dataset\n",
    "    \"\"\"\n",
    "    datasets = []\n",
    "    for i in range(len(dataset_ids)):\n",
    "        filename = dataset_ids[i][:-4] + \".csv\"\n",
    "        dataset = pd.read_csv(filename)\n",
    "        print(dataset.shape)\n",
    "        datasets.append(dataset)\n",
    "        \n",
    "    merged_dataset = pd.concat(datasets)\n",
    "    print(merged_dataset.shape)\n",
    "    merged_dataset.to_csv(name, index= False)\n",
    "    print(\"saved \", name)"
   ]
  },
  {
   "cell_type": "code",
   "execution_count": null,
   "metadata": {},
   "outputs": [],
   "source": [
    "merging_datasets(dataset_ids_gene, \"merged-gene-expr.csv\")\n",
    "merging_datasets(dataset_ids_stem, \"merged-stem-expr.csv\")"
   ]
  },
  {
   "cell_type": "code",
   "execution_count": null,
   "metadata": {},
   "outputs": [],
   "source": []
  }
 ],
 "metadata": {
  "kernelspec": {
   "display_name": "Python 3",
   "language": "python",
   "name": "python3"
  },
  "language_info": {
   "codemirror_mode": {
    "name": "ipython",
    "version": 3
   },
   "file_extension": ".py",
   "mimetype": "text/x-python",
   "name": "python",
   "nbconvert_exporter": "python",
   "pygments_lexer": "ipython3",
   "version": "3.7.6"
  }
 },
 "nbformat": 4,
 "nbformat_minor": 4
}
